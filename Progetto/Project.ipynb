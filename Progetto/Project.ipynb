{
 "cells": [
  {
   "cell_type": "code",
   "execution_count": 350,
   "id": "abstract-standard",
   "metadata": {},
   "outputs": [
    {
     "data": {
      "image/png": "[encoded data removed]",
      "text/plain": [
       "<Figure size 432x288 with 1 Axes>"
      ]
     },
     "metadata": {},
     "output_type": "display_data"
    }
   ],
   "source": [
    "# libraries import\n",
    "import os\n",
    "import re\n",
    "import json\n",
    "import random\n",
    "import itertools\n",
    "import numpy as np\n",
    "import networkx as nx\n",
    "from scipy.stats import bernoulli\n",
    "\n",
    "# fetching all the files\n",
    "base_path = 'sequences/'\n",
    "files = os.listdir(base_path)\n",
    "\n",
    "# creating the Graph using networkx\n",
    "G = nx.Graph()\n",
    "node_index = 0\n",
    "\n",
    "# main loop for graph construction\n",
    "i = 0 # testing with just 1000 files\n",
    "#for file in files:\n",
    "while i < 50:\n",
    "    # opening current file\n",
    "    # print(files[i])\n",
    "    with open(base_path + files[i]) as in_file:\n",
    "        data = json.load(in_file)\n",
    "    i += 1\n",
    "    # isolating the comment section\n",
    "    if 'comment' in data['results'][0]:\n",
    "        comments_section = data['results'][0]['comment']\n",
    "\n",
    "        # isolating the authors\n",
    "        authors = []\n",
    "        for comment in comments_section:\n",
    "            pattern = '(_([a-zA-Z]+\\.?\\s?)*_)'\n",
    "            results = re.findall(pattern, comment)\n",
    "            if results:\n",
    "                author = results[0][0].split('_')[1]\n",
    "                authors.append(author)\n",
    "\n",
    "        # adding the nodes\n",
    "        for author in authors:\n",
    "            if author not in nx.get_node_attributes(G, 'name').values():\n",
    "                G.add_node(node_index, name = author)\n",
    "                node_index += 1\n",
    "\n",
    "        # adding the edges\n",
    "        for pair in itertools.combinations(authors, 2):\n",
    "            # fetching node 1\n",
    "            node_1_key = list(nx.get_node_attributes(G, 'name').values()).index(pair[0])\n",
    "            # fetching node 2\n",
    "            node_2_key = list(nx.get_node_attributes(G, 'name').values()).index(pair[1])\n",
    "            # adding the edge if it isn't already in the graph\n",
    "            if (node_1_key, node_2_key) not in list(G.edges):\n",
    "                G.add_edge(node_1_key, node_2_key)\n",
    "\n",
    "nx.draw(G, with_labels = True)"
   ]
  },
  {
   "cell_type": "markdown",
   "id": "appreciated-leave",
   "metadata": {},
   "source": [
    "Greedy algorithm O(m) for finding a MIS"
   ]
  },
  {
   "cell_type": "code",
   "execution_count": 351,
   "id": "mexican-dodge",
   "metadata": {},
   "outputs": [],
   "source": [
    "def greedy_MIS(G):\n",
    "    V_set = list(G.nodes).copy()\n",
    "    maximal_independent_set = []\n",
    "    while len(V_set) > 0:\n",
    "        node = random.choice(V_set)\n",
    "        maximal_independent_set.append(node)\n",
    "        V_set.remove(node)\n",
    "        for adj_node in list(G.adj[node]):\n",
    "            if adj_node in V_set:\n",
    "                V_set.remove(adj_node)\n",
    "    return maximal_independent_set"
   ]
  },
  {
   "cell_type": "code",
   "execution_count": 595,
   "id": "normal-brazil",
   "metadata": {},
   "outputs": [
    {
     "data": {
      "text/plain": [
       "[2, 0, 6]"
      ]
     },
     "execution_count": 595,
     "metadata": {},
     "output_type": "execute_result"
    }
   ],
   "source": [
    "greedy_MIS(Gp)"
   ]
  },
  {
   "cell_type": "markdown",
   "id": "vocal-price",
   "metadata": {},
   "source": [
    "Greedy algorithm O(m) for finding a MIS with the specified nodes in it"
   ]
  },
  {
   "cell_type": "code",
   "execution_count": 352,
   "id": "complimentary-breed",
   "metadata": {},
   "outputs": [],
   "source": [
    "# function that returns a MIS with the specified nodes in it\n",
    "def greedy_MIS_with_nodes_specified(G, chosen_nodes):\n",
    "    V_set = list(G.nodes).copy()\n",
    "    maximal_independent_set = []\n",
    "    if check_if_set_is_IS(G, chosen_nodes):\n",
    "        # inserting the chosen nodes and removing their adj list\n",
    "        for node in chosen_nodes:\n",
    "            maximal_independent_set.append(node)\n",
    "            V_set.remove(node)\n",
    "            for adj_node in list(G.adj[node]):\n",
    "                if adj_node in V_set:\n",
    "                    V_set.remove(adj_node)\n",
    "        # main loop\n",
    "        while len(V_set) > 0:\n",
    "            node = random.choice(V_set)\n",
    "            maximal_independent_set.append(node)\n",
    "            V_set.remove(node)\n",
    "            for adj_node in list(G.adj[node]):\n",
    "                if adj_node in V_set:\n",
    "                    V_set.remove(adj_node)\n",
    "    return maximal_independent_set"
   ]
  },
  {
   "cell_type": "code",
   "execution_count": 594,
   "id": "southwest-declaration",
   "metadata": {},
   "outputs": [
    {
     "data": {
      "text/plain": [
       "[0, 2, 8, 9]"
      ]
     },
     "execution_count": 594,
     "metadata": {},
     "output_type": "execute_result"
    }
   ],
   "source": [
    "greedy_MIS_with_nodes_specified(Gp, [0,2])"
   ]
  },
  {
   "cell_type": "markdown",
   "id": "czech-hepatitis",
   "metadata": {},
   "source": [
    "Luby's algorithm O(logn) for finding a MIS"
   ]
  },
  {
   "cell_type": "code",
   "execution_count": 584,
   "id": "civil-contribution",
   "metadata": {},
   "outputs": [],
   "source": [
    "def luby_MIS(G):\n",
    "    V_set = list(G.nodes).copy()\n",
    "    E_set = list(G.edges).copy()\n",
    "    maximal_independent_set = []\n",
    "    while len(V_set) > 0:\n",
    "        probability_dist = [1/(2*G.degree[node]) if G.degree[node] > 0 else 1 for node in V_set]\n",
    "        marks = bernoulli.rvs(probability_dist, size = len(V_set))\n",
    "        zip_iter = zip(V_set, marks)\n",
    "        marked_nodes = dict(zip_iter)\n",
    "        for edge in E_set:\n",
    "            if edge[0] in marked_nodes and edge[1] in marked_nodes:\n",
    "                if marked_nodes[edge[0]] == 1 and marked_nodes[edge[1]] == 1:\n",
    "                    if G.degree[edge[0]] < G.degree[edge[1]]:\n",
    "                        marked_nodes[edge[0]] = 0\n",
    "                    elif G.degree[edge[0]] > G.degree[edge[1]]:\n",
    "                        marked_nodes[edge[1]] = 0\n",
    "                    else:\n",
    "                        if edge[0] < edge[1]:\n",
    "                            marked_nodes[edge[0]] = 0\n",
    "                        else:\n",
    "                            marked_nodes[edge[1]] = 0\n",
    "        for node in V_set:\n",
    "            if marked_nodes[node] == 1:\n",
    "                maximal_independent_set.append(node)\n",
    "        for node in maximal_independent_set:\n",
    "            if node in V_set:\n",
    "                V_set.remove(node)\n",
    "            for adj_node in G.adj[node]:\n",
    "                if adj_node in V_set:\n",
    "                    V_set.remove(adj_node)\n",
    "        for edge in E_set:\n",
    "            if not(edge[0] in V_set and edge[1] in V_set):\n",
    "                E_set.remove(edge)\n",
    "    return maximal_independent_set"
   ]
  },
  {
   "cell_type": "code",
   "execution_count": 593,
   "id": "incorporate-centre",
   "metadata": {},
   "outputs": [
    {
     "data": {
      "text/plain": [
       "[4, 5, 6, 2]"
      ]
     },
     "execution_count": 593,
     "metadata": {},
     "output_type": "execute_result"
    }
   ],
   "source": [
    "luby_MIS(Gp)"
   ]
  },
  {
   "cell_type": "markdown",
   "id": "dirty-inflation",
   "metadata": {},
   "source": [
    "Algorithm designed to find all MISs"
   ]
  },
  {
   "cell_type": "code",
   "execution_count": 355,
   "id": "forward-robin",
   "metadata": {},
   "outputs": [],
   "source": [
    "# function that returns true if the set is independent (no 2 vertex build an edge of G)\n",
    "def check_if_set_is_IS(G, IS):\n",
    "    pairs = itertools.permutations(IS, 2)\n",
    "    if any(pair in list(G.edges) for pair in pairs):\n",
    "        return False\n",
    "    else:\n",
    "        return True"
   ]
  },
  {
   "cell_type": "code",
   "execution_count": 356,
   "id": "hollywood-discipline",
   "metadata": {},
   "outputs": [],
   "source": [
    "# function that returns true if the independent set is maximal (non-extendible)\n",
    "def check_if_set_is_MIS(G, IS):\n",
    "    nodes_without_IS = [node for node in list(G.nodes) if node not in IS]\n",
    "    if any(is_node_addable_to_IS(G, IS, node) for node in nodes_without_IS):\n",
    "        return False\n",
    "    else:\n",
    "        return True"
   ]
  },
  {
   "cell_type": "code",
   "execution_count": 357,
   "id": "adjacent-reservoir",
   "metadata": {},
   "outputs": [],
   "source": [
    "# function that returns true if the node we're trying to add doesn't turn the set into\n",
    "# a dependent set\n",
    "def is_node_addable_to_IS(G, IS, new_node):\n",
    "    if any(new_node in G.adj[node] for node in IS):\n",
    "        return False\n",
    "    else:\n",
    "        return True"
   ]
  },
  {
   "cell_type": "code",
   "execution_count": 358,
   "id": "danish-sunset",
   "metadata": {},
   "outputs": [],
   "source": [
    "# function that returns a degeneracy ordering for the graph G\n",
    "def get_degeneracy_ordering(G):\n",
    "    deg_ordering = []\n",
    "    graph = G.copy()\n",
    "    degrees = dict(graph.degree)\n",
    "    for i in range(graph.number_of_nodes()):\n",
    "        min_degree_node = min(degrees, key = degrees.get)\n",
    "        graph.remove_node(min_degree_node)\n",
    "        del degrees[min_degree_node]\n",
    "        deg_ordering.append(min_degree_node)\n",
    "    return deg_ordering"
   ]
  },
  {
   "cell_type": "code",
   "execution_count": 359,
   "id": "exclusive-slovak",
   "metadata": {},
   "outputs": [],
   "source": [
    "# function that given a set A returns its minimum element according to the degeneracy \n",
    "# ordering provided\n",
    "def get_minimum_elem_in_deg_ord(deg_ord, A):\n",
    "    if None in A:\n",
    "        return A[0]\n",
    "    for node in deg_ord:\n",
    "        if node in A:\n",
    "            return node"
   ]
  },
  {
   "cell_type": "code",
   "execution_count": 360,
   "id": "under-break",
   "metadata": {},
   "outputs": [],
   "source": [
    "# function that returns the complementary neighborhood of a specified node, that is all \n",
    "# the nodes that don't appear in its adjacency list. doesn't count duplicates.\n",
    "def get_complementary_neighborhood(G, spec_node):\n",
    "    compl_neighborhood = []\n",
    "    for node in G.nodes:\n",
    "        compl_neighborhood += [adj_node for adj_node in G.adj[node] if adj_node not in G.adj[spec_node] and adj_node != spec_node]\n",
    "    return list(set(compl_neighborhood))"
   ]
  },
  {
   "cell_type": "code",
   "execution_count": 361,
   "id": "amber-bookmark",
   "metadata": {},
   "outputs": [],
   "source": [
    "# function that returns the complementary neighborhood of a specified node set, that is all \n",
    "# the nodes that don't appear in the adjacency lists of the nodes in the set. doesn't count\n",
    "# duplicates.\n",
    "def get_set_complementary_neighborhood(G, A):\n",
    "    compl_neighborhood = []\n",
    "    for set_node in A:\n",
    "        compl_neigh = get_complementary_neighborhood(G, set_node)\n",
    "        compl_neighborhood.append(compl_neigh)\n",
    "    if not compl_neighborhood:\n",
    "        return []\n",
    "    else:\n",
    "        intersection = set.intersection(*map(set,compl_neighborhood))\n",
    "        return list(intersection)"
   ]
  },
  {
   "cell_type": "code",
   "execution_count": 362,
   "id": "meaningful-cedar",
   "metadata": {},
   "outputs": [],
   "source": [
    "# function that returns the neighbors of the nodes that come before the specified node\n",
    "# in the degeneracy ordering\n",
    "def get_neighbors_of_node_before_deg_ord(G, deg_ord, v):\n",
    "    neighbors = set(G.adj[v])\n",
    "    deg_ord_before_v = set(deg_ord[:deg_ord.index(v)])\n",
    "    return list(set.intersection(neighbors, deg_ord_before_spec))"
   ]
  },
  {
   "cell_type": "code",
   "execution_count": 363,
   "id": "collected-favor",
   "metadata": {},
   "outputs": [],
   "source": [
    "# function that returns the intersection between the specified set A and the nodes that \n",
    "# appear before the specified node in the degeneracy order\n",
    "def get_nodes_in_set_before_spec_deg_ord(deg_ord, A, spec_node):\n",
    "    deg_ord_before_spec = deg_ord[:deg_ord.index(spec_node)]\n",
    "    A_before_spec = [node for node in deg_ord_before_spec if node in A]\n",
    "    return A_before_spec"
   ]
  },
  {
   "cell_type": "code",
   "execution_count": 364,
   "id": "lightweight-voltage",
   "metadata": {},
   "outputs": [],
   "source": [
    "# function that returns the intersection between the specified set A and the nodes that \n",
    "# appear before the specified node or at the specified node in the degeneracy order\n",
    "def get_nodes_in_set_before_equal_spec_deg_ord(deg_ord, A, spec_node):\n",
    "    deg_ord_before_spec = deg_ord[:deg_ord.index(spec_node)+1]\n",
    "    A_before_spec = [node for node in deg_ord_before_spec if node in A]\n",
    "    return A_before_spec"
   ]
  },
  {
   "cell_type": "code",
   "execution_count": 365,
   "id": "passing-bullet",
   "metadata": {},
   "outputs": [],
   "source": [
    "# function that returns the intersection between the specified set A and the nodes that \n",
    "# appear after the specified node in the degeneracy order\n",
    "def get_nodes_in_set_after_spec_deg_ord(deg_ord, A, spec_node):\n",
    "    deg_ord_before_spec = deg_ord[deg_ord.index(spec_node):]\n",
    "    A_before_spec = [node for node in deg_ord_before_spec if node in A]\n",
    "    return A_before_spec"
   ]
  },
  {
   "cell_type": "code",
   "execution_count": 366,
   "id": "shared-surgeon",
   "metadata": {},
   "outputs": [],
   "source": [
    "# function that returns the set I<v intersected with the complementary neighborhood of v,\n",
    "# that is I'v\n",
    "def get_I_prime_set(G, deg_ord, IS, v):\n",
    "    I_before_v = get_nodes_in_set_before_spec_deg_ord(deg_ord, IS, v)\n",
    "    compl_neighborhood_v = get_complementary_neighborhood(G, v)\n",
    "    I_prime_v = [node for node in I_before_v if node in compl_neighborhood_v]\n",
    "    return I_prime_v"
   ]
  },
  {
   "cell_type": "code",
   "execution_count": 367,
   "id": "disturbed-webster",
   "metadata": {},
   "outputs": [],
   "source": [
    "# function that returns true whether the specified IS is root in the solution digraph\n",
    "def is_root(G, IS, deg_ord):\n",
    "    min_IS = get_minimum_elem_in_deg_ord(IS, deg_ord)\n",
    "    PI_IS = get_parent_index(G, IS, deg_ord)\n",
    "    return min_IS == PI_IS"
   ]
  },
  {
   "cell_type": "code",
   "execution_count": 368,
   "id": "tutorial-child",
   "metadata": {},
   "outputs": [],
   "source": [
    "def parent_state(G, IS, deg_ord):\n",
    "    v = get_parent_index(G, IS, deg_ord)\n",
    "    I_before_v = get_nodes_in_set_before_spec_deg_ord(deg_ord, IS, v)\n",
    "    compl = complete_MIS(G, I_before_v, deg_ord)\n",
    "    return compl, v"
   ]
  },
  {
   "cell_type": "code",
   "execution_count": 499,
   "id": "atmospheric-eight",
   "metadata": {},
   "outputs": [],
   "source": [
    "def get_next_candidate_ms(G, IS, deg_ord, v, nodes_checked):\n",
    "    diff_V_IS = [node for node in G.nodes if node not in IS and node not in nodes_checked]\n",
    "    diff_after_v = get_nodes_in_set_after_spec_deg_ord(deg_ord, diff_V_IS, v)\n",
    "    return get_minimum_elem_in_deg_ord(deg_ord, diff_after_v)"
   ]
  },
  {
   "cell_type": "code",
   "execution_count": 371,
   "id": "guilty-format",
   "metadata": {},
   "outputs": [],
   "source": [
    "def get_next_candidate(G, IS, deg_ord, v):\n",
    "    smallest = None\n",
    "    candidates = []\n",
    "    for node in IS:\n",
    "        compl_neighborhood = get_complementary_neighborhood(G, node)\n",
    "        compl_neigh_after_node = get_nodes_in_set_after_spec_deg_ord(deg_ord, compl_neighborhood, node)\n",
    "        compl_neigh_after_node_f = [node for node in compl_neigh_after_node if node not in IS]\n",
    "        compl_neigh_after_node_filter = [node for node in compl_neigh_after_node_f if get_minimum_elem_in_deg_ord(deg_ord, [node, v]) == v]\n",
    "        candidates += [node for node in compl_neigh_after_node_filter if node not in candidates]\n",
    "    return get_minimum_elem_in_deg_ord(deg_ord, candidates)"
   ]
  },
  {
   "cell_type": "code",
   "execution_count": 471,
   "id": "amber-philippines",
   "metadata": {},
   "outputs": [],
   "source": [
    "def complete_MIS(G, IS, deg_ord):\n",
    "    V_set = get_set_complementary_neighborhood(G, IS)\n",
    "    while len(V_set) > 0:\n",
    "        node = get_minimum_elem_in_deg_ord(deg_ord, V_set)\n",
    "        IS.append(node)\n",
    "        V_set.remove(node)\n",
    "        for adj_node in list(G.adj[node]):\n",
    "            if adj_node in V_set:\n",
    "                V_set.remove(adj_node)\n",
    "    return IS"
   ]
  },
  {
   "cell_type": "code",
   "execution_count": 373,
   "id": "secret-emission",
   "metadata": {},
   "outputs": [],
   "source": [
    "def get_parent_index(G, IS, deg_ord):\n",
    "    smallest = None\n",
    "    candidates = []\n",
    "    for node in IS:\n",
    "        before_equal_set = get_nodes_in_set_before_equal_spec_deg_ord(deg_ord, IS, node)\n",
    "        if set(complete_MIS(G, before_equal_set, deg_ord)) == set(IS):\n",
    "            candidates.append(node)\n",
    "    return get_minimum_elem_in_deg_ord(deg_ord, candidates)"
   ]
  },
  {
   "cell_type": "code",
   "execution_count": 374,
   "id": "earned-healing",
   "metadata": {},
   "outputs": [],
   "source": [
    "def child_exist_ms(G, IS, deg_ord, v):\n",
    "    I_prime_v = get_I_prime_set(G, deg_ord, IS, v)\n",
    "    compl_neighborhood_I_prime_v = get_set_complementary_neighborhood(G, I_prime_v + [v])\n",
    "    min_elem_compl_neigh = get_minimum_elem_in_deg_ord(deg_ord, compl_neighborhood_I_prime_v)\n",
    "    if not get_minimum_elem_in_deg_ord(deg_ord, [min_elem_compl_neigh, v]) == v:\n",
    "        return False\n",
    "    while get_set_complementary_neighborhood(G, I_prime_v):\n",
    "        x = get_minimum_elem_in_deg_ord(deg_ord, get_set_complementary_neighborhood(G, I_prime_v))\n",
    "        if x in get_nodes_in_set_before_spec_deg_ord(deg_ord, IS, v):\n",
    "            I_prime_v.append(x)\n",
    "        else:\n",
    "            return x in IS"
   ]
  },
  {
   "cell_type": "code",
   "execution_count": 510,
   "id": "verbal-newfoundland",
   "metadata": {
    "scrolled": true
   },
   "outputs": [
    {
     "name": "stdout",
     "output_type": "stream",
     "text": [
      "root: [9, 8, 2, 0]\n",
      "[] [9, 8, 2, 0] 7\n",
      "found: [8, 7, 4, 1]\n",
      "[] [8, 7, 4, 1] 6\n",
      "found: [7, 6, 4]\n",
      "[] [7, 6, 4] 5\n",
      "found: [6, 5, 4, 2]\n",
      "[] [6, 5, 4, 2] 3\n",
      "no child with 3\n",
      "done with [6, 5, 4, 2]\n",
      "[] [7, 8, 4, 1] 6\n",
      "done with [7, 6, 4]\n",
      "[] [8, 9, 2, 0] 7\n",
      "done with [8, 7, 4, 1]\n",
      "[] [] 9\n",
      "done with []\n",
      "root: [8, 9, 2, 0]\n",
      "[] [8, 9, 2, 0] 7\n",
      "done with [8, 7, 4, 1]\n",
      "[] [] 9\n",
      "done with []\n",
      "root: [7, 8, 4, 1]\n",
      "[] [7, 8, 4, 1] 6\n",
      "done with [7, 6, 4]\n",
      "[] [8, 9, 2, 0] 7\n",
      "done with [8, 7, 4, 1]\n",
      "[] [] 9\n",
      "done with []\n",
      "root: [6, 7, 4]\n",
      "[] [6, 7, 4] 5\n",
      "done with [6, 5, 4, 2]\n",
      "[] [7, 8, 4, 1] 6\n",
      "done with [7, 6, 4]\n",
      "[] [8, 9, 2, 0] 7\n",
      "done with [8, 7, 4, 1]\n",
      "[] [] 9\n",
      "done with []\n",
      "root: [5, 9, 3, 1]\n",
      "[] [5, 9, 3, 1] 4\n",
      "no child with 4\n",
      "done with [5, 9, 3, 1]\n",
      "root: [4, 8, 7, 1]\n",
      "[] [4, 8, 7, 1] 6\n",
      "done with [7, 6, 4]\n",
      "[] [8, 9, 2, 0] 7\n",
      "done with [8, 7, 4, 1]\n",
      "[] [] 9\n",
      "done with []\n",
      "root: [3, 9, 5, 1]\n",
      "[] [3, 9, 5, 1] 4\n",
      "no child with 4\n",
      "done with [3, 9, 5, 1]\n",
      "[] [] 9\n",
      "done with []\n",
      "root: [2, 9, 8, 0]\n",
      "[] [2, 9, 8, 0] 7\n",
      "done with [8, 7, 4, 1]\n",
      "[] [] 9\n",
      "done with []\n",
      "root: [1, 9, 8]\n",
      "[] [1, 9, 8] 0\n",
      "no child with 0\n",
      "done with [1, 9, 8]\n",
      "root: [0, 9, 8, 2]\n",
      "[] [0, 9, 8, 2] 7\n",
      "done with [8, 7, 4, 1]\n",
      "[] [] 9\n",
      "done with []\n",
      "[[9, 8, 2, 0], [8, 7, 4, 1], [7, 6, 4], [6, 5, 4, 2], [5, 9, 3, 1], [1, 9, 8]]\n"
     ]
    }
   ],
   "source": [
    "G = Gp\n",
    "G_ord = Gp_ord\n",
    "set_of_found_MIS = []\n",
    "for node in G_ord:\n",
    "    root = complete_MIS(G, [node], G_ord)\n",
    "    print('root:', root)\n",
    "    if set(root) not in [set(MIS) for MIS in set_of_found_MIS]:\n",
    "        set_of_found_MIS.append(root)\n",
    "    my_iterative_spawn(G, root, G_ord, set_of_found_MIS)\n",
    "print(set_of_found_MIS)"
   ]
  },
  {
   "cell_type": "code",
   "execution_count": 509,
   "id": "noble-cradle",
   "metadata": {},
   "outputs": [],
   "source": [
    "def my_iterative_spawn(G, IS, deg_ord, set_of_found_MIS):\n",
    "    v = get_parent_index(G, IS, deg_ord)\n",
    "    paths_checked = []\n",
    "    while True:\n",
    "        childless = True\n",
    "        nodes_checked = []\n",
    "        while get_next_candidate_ms(G, IS, deg_ord, v, nodes_checked) is not None and set(IS) not in [set(IS) for IS in paths_checked]:\n",
    "            v = get_next_candidate_ms(G, IS, deg_ord, v, nodes_checked)\n",
    "            print(nodes_checked, IS, v)\n",
    "            if not get_minimum_elem_in_deg_ord(deg_ord, [v, get_parent_index(G, IS, deg_ord)]) == v:\n",
    "                if child_exist_ms(G, IS, deg_ord, v):\n",
    "                    I_prime_v = get_I_prime_set(G, deg_ord, IS, v)\n",
    "                    I_prime_before_v = get_nodes_in_set_before_spec_deg_ord(deg_ord, I_prime_v, v)\n",
    "                    if v not in I_prime_before_v:\n",
    "                        I_prime_before_v.append(v)\n",
    "                    IS = complete_MIS(G, I_prime_before_v, deg_ord)\n",
    "                    if set(IS) not in [set(MIS) for MIS in set_of_found_MIS]:\n",
    "                        print('found:', IS)\n",
    "                        set_of_found_MIS.append(IS)\n",
    "                        childless = False\n",
    "                        break\n",
    "                else:\n",
    "                    print('no child with', v)\n",
    "                    nodes_checked.append(v)\n",
    "            print('done with', IS)\n",
    "            paths_checked.append(IS)\n",
    "        if childless:\n",
    "            if is_root(G, IS, deg_ord):\n",
    "                return\n",
    "            elif set(IS) in [set(IS) for IS in paths_checked]:\n",
    "                parent, v_parent = parent_state(G, IS, deg_ord)\n",
    "                IS, v = parent_state(G, parent, deg_ord)\n",
    "            else:\n",
    "                IS, v = parent_state(G, IS, deg_ord)\n",
    "                print('restoring', IS, v)"
   ]
  },
  {
   "cell_type": "code",
   "execution_count": 438,
   "id": "comparable-greene",
   "metadata": {},
   "outputs": [],
   "source": [
    "def wrap_iterative_spawn(G, mode):\n",
    "    set_of_found_MIS = []\n",
    "    deg_ord = get_degeneracy_ordering(G)\n",
    "    for node in list(G.nodes):\n",
    "        root = complete_MIS(G, [node], deg_ord)\n",
    "        print('root:', root)\n",
    "        if set(root) not in [set(MIS) for MIS in set_of_found_MIS]:\n",
    "            set_of_found_MIS.append(root)\n",
    "        iterative_spawn(G, root, deg_ord, set_of_found_MIS)\n",
    "    if mode == 'all':\n",
    "        return set_of_found_MIS\n",
    "    else:\n",
    "        return max(set_of_found_MIS, key = len)"
   ]
  },
  {
   "cell_type": "code",
   "execution_count": 382,
   "id": "authentic-astrology",
   "metadata": {},
   "outputs": [
    {
     "data": {
      "image/png": "[encoded data removed]",
      "text/plain": [
       "<Figure size 432x288 with 1 Axes>"
      ]
     },
     "metadata": {},
     "output_type": "display_data"
    }
   ],
   "source": [
    "Gp = nx.petersen_graph()\n",
    "nx.draw(Gp, with_labels = True)\n",
    "deg_ordering = get_degeneracy_ordering(Gp)\n",
    "Gp_ord = deg_ordering[::-1]"
   ]
  },
  {
   "cell_type": "code",
   "execution_count": 383,
   "id": "hawaiian-twenty",
   "metadata": {},
   "outputs": [
    {
     "data": {
      "text/plain": [
       "[6, 2, 0]"
      ]
     },
     "execution_count": 383,
     "metadata": {},
     "output_type": "execute_result"
    }
   ],
   "source": [
    "[[0, 2, 6],\n",
    " [0, 2, 8, 9],\n",
    " [0, 3, 6, 7],\n",
    " [0, 3, 9],\n",
    " [0, 7, 8],\n",
    " [1, 3, 5, 9],\n",
    " [1, 3, 7],\n",
    " [1, 4, 5],\n",
    " [1, 4, 7, 8],\n",
    " [1, 8, 9],\n",
    " [2, 4, 5, 6],\n",
    " [2, 4, 8],\n",
    " [2, 5, 9],\n",
    " [3, 5, 6],\n",
    " [4, 6, 7]]\n",
    "Ij = [0,2,6]\n",
    "parent_Ij = complete_MIS(Gp, get_nodes_in_set_before_spec_deg_ord(deg_ord, Ij, get_parent_index(Gp, Ij, deg_ord)), deg_ord)\n",
    "Ii = parent_Ij\n",
    "v = get_parent_index(Gp, Ij, deg_ord)\n",
    "# formula 1:\n",
    "i_prime = get_I_prime_set(Gp, deg_ord, Ij, v)\n",
    "i_prime_before = get_nodes_in_set_before_spec_deg_ord(deg_ord, i_prime, v)\n",
    "complete_MIS(Gp, i_prime_before + [v], deg_ord)"
   ]
  },
  {
   "cell_type": "code",
   "execution_count": 597,
   "id": "boolean-intranet",
   "metadata": {},
   "outputs": [],
   "source": [
    "def find_all_MIS_rec(G, node, V_set, adj_V_set, remaining_nodes, set_of_found_MIS):\n",
    "    if set(remaining_nodes) == set():\n",
    "        return\n",
    "    V_set.append(node)\n",
    "    remaining_nodes.remove(node)\n",
    "    for adj_node in G.adj[node]:\n",
    "        if adj_node in remaining_nodes:\n",
    "            remaining_nodes.remove(adj_node)\n",
    "        if adj_node not in adj_V_set:\n",
    "            adj_V_set.append(adj_node)\n",
    "    if check_if_set_is_MIS(G, V_set):\n",
    "        new_MIS = V_set.copy()\n",
    "        if set(new_MIS) not in [set(MIS) for MIS in set_of_found_MIS]:\n",
    "            set_of_found_MIS.append(new_MIS)\n",
    "        V_set.remove(node)\n",
    "    if set(V_set + remaining_nodes) not in [set(MIS) for MIS in set_of_found_MIS]:\n",
    "        for rem_node in remaining_nodes:\n",
    "            if is_node_addable_to_IS(G, V_set, rem_node):\n",
    "                find_all_MIS_rec(G, rem_node, V_set.copy(), adj_V_set.copy(), remaining_nodes.copy(), set_of_found_MIS)"
   ]
  },
  {
   "cell_type": "code",
   "execution_count": 600,
   "id": "increasing-azerbaijan",
   "metadata": {},
   "outputs": [],
   "source": [
    "def find_all_MIS(G, mode):\n",
    "    set_of_found_MIS = []\n",
    "    V_set = []\n",
    "    remaining_nodes = list(G.nodes).copy()\n",
    "    for node in remaining_nodes:\n",
    "        if G.degree[node] == 0:\n",
    "            V_set.append(node)\n",
    "    for node in V_set:\n",
    "        remaining_nodes.remove(node)\n",
    "    for node in remaining_nodes:\n",
    "        adj_V_set = []\n",
    "        if is_node_addable_to_IS(G, V_set, node):\n",
    "            find_all_MIS_rec(G, node, V_set.copy(), adj_V_set.copy(), remaining_nodes.copy(), set_of_found_MIS)\n",
    "    if mode == 'all':\n",
    "        return set_of_found_MIS\n",
    "    else:\n",
    "        return max(set_of_found_MIS, key = len)"
   ]
  },
  {
   "cell_type": "code",
   "execution_count": 602,
   "id": "frozen-sodium",
   "metadata": {
    "scrolled": true
   },
   "outputs": [
    {
     "name": "stdout",
     "output_type": "stream",
     "text": [
      "CPU times: user 11.1 ms, sys: 215 µs, total: 11.3 ms\n",
      "Wall time: 11.1 ms\n"
     ]
    },
    {
     "data": {
      "text/plain": [
       "[[0, 2, 6],\n",
       " [0, 2, 8, 9],\n",
       " [0, 3, 6, 7],\n",
       " [0, 3, 9],\n",
       " [0, 7, 8],\n",
       " [1, 3, 5, 9],\n",
       " [1, 3, 7],\n",
       " [1, 4, 5],\n",
       " [1, 4, 7, 8],\n",
       " [1, 8, 9],\n",
       " [2, 4, 5, 6],\n",
       " [2, 4, 8],\n",
       " [2, 5, 9],\n",
       " [3, 5, 6],\n",
       " [4, 6, 7]]"
      ]
     },
     "execution_count": 602,
     "metadata": {},
     "output_type": "execute_result"
    }
   ],
   "source": [
    "%%time\n",
    "find_all_MIS(Gp, 'all')"
   ]
  },
  {
   "cell_type": "code",
   "execution_count": 601,
   "id": "neutral-merchandise",
   "metadata": {},
   "outputs": [
    {
     "data": {
      "text/plain": [
       "[0, 2, 8, 9]"
      ]
     },
     "execution_count": 601,
     "metadata": {},
     "output_type": "execute_result"
    }
   ],
   "source": [
    "find_all_MIS(Gp, 'maximum')"
   ]
  }
 ],
 "metadata": {
  "kernelspec": {
   "display_name": "Python 3",
   "language": "python",
   "name": "python3"
  },
  "language_info": {
   "codemirror_mode": {
    "name": "ipython",
    "version": 3
   },
   "file_extension": ".py",
   "mimetype": "text/x-python",
   "name": "python",
   "nbconvert_exporter": "python",
   "pygments_lexer": "ipython3",
   "version": "3.8.5"
  }
 },
 "nbformat": 4,
 "nbformat_minor": 5
}
