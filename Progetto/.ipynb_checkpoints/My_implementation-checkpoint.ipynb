{
 "cells": [
  {
   "cell_type": "code",
   "execution_count": null,
   "id": "devoted-garbage",
   "metadata": {},
   "outputs": [],
   "source": [
    "# libraries import\n",
    "import os\n",
    "import re\n",
    "import json\n",
    "import random\n",
    "import itertools\n",
    "import numpy as np\n",
    "import networkx as nx\n",
    "from scipy.stats import bernoulli\n",
    "\n",
    "# fetching all the files\n",
    "base_path = 'sequences/'\n",
    "files = os.listdir(base_path)\n",
    "\n",
    "# creating the Graph using networkx\n",
    "G = nx.Graph()\n",
    "node_index = 0\n",
    "\n",
    "# main loop for graph construction\n",
    "i = 0 # testing with just 1000 files\n",
    "#for file in files:\n",
    "while i < 100:\n",
    "    # opening current file\n",
    "    # print(files[i])\n",
    "    with open(base_path + files[i]) as in_file:\n",
    "        data = json.load(in_file)\n",
    "    i += 1\n",
    "    # isolating the comment section\n",
    "    if 'comment' in data['results'][0]:\n",
    "        comments_section = data['results'][0]['comment']\n",
    "\n",
    "        # isolating the authors\n",
    "        authors = []\n",
    "        for comment in comments_section:\n",
    "            pattern = '(_([a-zA-Z]+\\.?\\s?)*_)'\n",
    "            results = re.findall(pattern, comment)\n",
    "            if results:\n",
    "                author = results[0][0].split('_')[1]\n",
    "                authors.append(author)\n",
    "\n",
    "        # adding the nodes\n",
    "        for author in authors:\n",
    "            if author not in nx.get_node_attributes(G, 'name').values():\n",
    "                G.add_node(node_index, name = author)\n",
    "                node_index += 1\n",
    "\n",
    "        # adding the edges\n",
    "        for pair in itertools.combinations(authors, 2):\n",
    "            # fetching node 1\n",
    "            node_1_key = list(nx.get_node_attributes(G, 'name').values()).index(pair[0])\n",
    "            # fetching node 2\n",
    "            node_2_key = list(nx.get_node_attributes(G, 'name').values()).index(pair[1])\n",
    "            # adding the edge if it isn't already in the graph\n",
    "            if (node_1_key, node_2_key) not in list(G.edges):\n",
    "                G.add_edge(node_1_key, node_2_key)\n",
    "\n",
    "nx.draw(G, with_labels = True)"
   ]
  },
  {
   "cell_type": "markdown",
   "id": "caroline-compiler",
   "metadata": {},
   "source": [
    "Greedy algorithm O(m) for finding a MIS"
   ]
  },
  {
   "cell_type": "code",
   "execution_count": null,
   "id": "bulgarian-shadow",
   "metadata": {},
   "outputs": [],
   "source": [
    "def greedy_MIS(G):\n",
    "    V_set = list(G.nodes).copy()\n",
    "    maximal_independent_set = []\n",
    "    while len(V_set) > 0:\n",
    "        node = random.choice(V_set)\n",
    "        maximal_independent_set.append(node)\n",
    "        V_set.remove(node)\n",
    "        for adj_node in list(G.adj[node]):\n",
    "            if adj_node in V_set:\n",
    "                V_set.remove(adj_node)\n",
    "    return maximal_independent_set"
   ]
  },
  {
   "cell_type": "code",
   "execution_count": null,
   "id": "technical-profession",
   "metadata": {},
   "outputs": [],
   "source": [
    "greedy_MIS(Gp)"
   ]
  },
  {
   "cell_type": "markdown",
   "id": "urban-dakota",
   "metadata": {},
   "source": [
    "Greedy algorithm O(m) for finding a MIS with the specified nodes in it"
   ]
  },
  {
   "cell_type": "code",
   "execution_count": null,
   "id": "boolean-polish",
   "metadata": {},
   "outputs": [],
   "source": [
    "# function that returns a MIS with the specified nodes in it\n",
    "def greedy_MIS_with_nodes_specified(G, chosen_nodes):\n",
    "    V_set = list(G.nodes).copy()\n",
    "    maximal_independent_set = []\n",
    "    if check_if_set_is_IS(G, chosen_nodes):\n",
    "        # inserting the chosen nodes and removing their adj list\n",
    "        for node in chosen_nodes:\n",
    "            maximal_independent_set.append(node)\n",
    "            V_set.remove(node)\n",
    "            for adj_node in list(G.adj[node]):\n",
    "                if adj_node in V_set:\n",
    "                    V_set.remove(adj_node)\n",
    "        # main loop\n",
    "        while len(V_set) > 0:\n",
    "            node = random.choice(V_set)\n",
    "            maximal_independent_set.append(node)\n",
    "            V_set.remove(node)\n",
    "            for adj_node in list(G.adj[node]):\n",
    "                if adj_node in V_set:\n",
    "                    V_set.remove(adj_node)\n",
    "    return maximal_independent_set"
   ]
  },
  {
   "cell_type": "code",
   "execution_count": null,
   "id": "august-ballot",
   "metadata": {},
   "outputs": [],
   "source": [
    "greedy_MIS_with_nodes_specified(Gp, [0,2])"
   ]
  },
  {
   "cell_type": "markdown",
   "id": "alpine-rabbit",
   "metadata": {},
   "source": [
    "Luby's algorithm O(logn) for finding a MIS"
   ]
  },
  {
   "cell_type": "code",
   "execution_count": null,
   "id": "republican-brunswick",
   "metadata": {},
   "outputs": [],
   "source": [
    "def luby_MIS(G):\n",
    "    V_set = list(G.nodes).copy()\n",
    "    E_set = list(G.edges).copy()\n",
    "    maximal_independent_set = []\n",
    "    while len(V_set) > 0:\n",
    "        probability_dist = [1/(2*G.degree[node]) if G.degree[node] > 0 else 1 for node in V_set]\n",
    "        marks = bernoulli.rvs(probability_dist, size = len(V_set))\n",
    "        zip_iter = zip(V_set, marks)\n",
    "        marked_nodes = dict(zip_iter)\n",
    "        for edge in E_set:\n",
    "            if edge[0] in marked_nodes and edge[1] in marked_nodes:\n",
    "                if marked_nodes[edge[0]] == 1 and marked_nodes[edge[1]] == 1:\n",
    "                    if G.degree[edge[0]] < G.degree[edge[1]]:\n",
    "                        marked_nodes[edge[0]] = 0\n",
    "                    elif G.degree[edge[0]] > G.degree[edge[1]]:\n",
    "                        marked_nodes[edge[1]] = 0\n",
    "                    else:\n",
    "                        if edge[0] < edge[1]:\n",
    "                            marked_nodes[edge[0]] = 0\n",
    "                        else:\n",
    "                            marked_nodes[edge[1]] = 0\n",
    "        for node in V_set:\n",
    "            if marked_nodes[node] == 1:\n",
    "                maximal_independent_set.append(node)\n",
    "        for node in maximal_independent_set:\n",
    "            if node in V_set:\n",
    "                V_set.remove(node)\n",
    "            for adj_node in G.adj[node]:\n",
    "                if adj_node in V_set:\n",
    "                    V_set.remove(adj_node)\n",
    "        for edge in E_set:\n",
    "            if not(edge[0] in V_set and edge[1] in V_set):\n",
    "                E_set.remove(edge)\n",
    "    return maximal_independent_set"
   ]
  },
  {
   "cell_type": "code",
   "execution_count": null,
   "id": "meaning-lying",
   "metadata": {},
   "outputs": [],
   "source": [
    "luby_MIS(Gp)"
   ]
  },
  {
   "cell_type": "markdown",
   "id": "favorite-hierarchy",
   "metadata": {},
   "source": [
    "Naive algorithm designed to find all MISs"
   ]
  },
  {
   "cell_type": "code",
   "execution_count": null,
   "id": "horizontal-discretion",
   "metadata": {},
   "outputs": [],
   "source": [
    "Gp = nx.petersen_graph()\n",
    "nx.draw(Gp, with_labels = True)\n",
    "deg_ordering = get_degeneracy_ordering(Gp)\n",
    "Gp_ord = deg_ordering[::-1]"
   ]
  },
  {
   "cell_type": "code",
   "execution_count": null,
   "id": "atmospheric-garage",
   "metadata": {},
   "outputs": [],
   "source": [
    "# function that returns true if the set is independent (no 2 vertex build an edge of G)\n",
    "def check_if_set_is_IS(G, IS):\n",
    "    pairs = itertools.permutations(IS, 2)\n",
    "    if any(pair in list(G.edges) for pair in pairs):\n",
    "        return False\n",
    "    else:\n",
    "        return True"
   ]
  },
  {
   "cell_type": "code",
   "execution_count": null,
   "id": "signed-marker",
   "metadata": {},
   "outputs": [],
   "source": [
    "# function that returns true if the independent set is maximal (non-extendible)\n",
    "def check_if_set_is_MIS(G, IS):\n",
    "    nodes_without_IS = [node for node in list(G.nodes) if node not in IS]\n",
    "    if any(is_node_addable_to_IS(G, IS, node) for node in nodes_without_IS):\n",
    "        return False\n",
    "    else:\n",
    "        return True"
   ]
  },
  {
   "cell_type": "code",
   "execution_count": null,
   "id": "raising-reward",
   "metadata": {},
   "outputs": [],
   "source": [
    "# function that returns true if the node we're trying to add doesn't turn the set into\n",
    "# a dependent set\n",
    "def is_node_addable_to_IS(G, IS, new_node):\n",
    "    if any(new_node in G.adj[node] for node in IS):\n",
    "        return False\n",
    "    else:\n",
    "        return True"
   ]
  },
  {
   "cell_type": "code",
   "execution_count": null,
   "id": "complicated-cinema",
   "metadata": {},
   "outputs": [],
   "source": [
    "def find_all_MIS_rec(G, node, V_set, remaining_nodes, set_of_found_MIS):\n",
    "    if set(remaining_nodes) == set():\n",
    "        return\n",
    "    V_set.append(node)\n",
    "    remaining_nodes.remove(node)\n",
    "    for adj_node in G.adj[node]:\n",
    "        if adj_node in remaining_nodes:\n",
    "            remaining_nodes.remove(adj_node)\n",
    "    if check_if_set_is_MIS(G, V_set):\n",
    "        new_MIS = V_set.copy()\n",
    "        if set(new_MIS) not in [set(MIS) for MIS in set_of_found_MIS]:\n",
    "            set_of_found_MIS.append(new_MIS)\n",
    "        V_set.remove(node)\n",
    "    if set(V_set + remaining_nodes) not in [set(MIS) for MIS in set_of_found_MIS]:\n",
    "        for rem_node in remaining_nodes:\n",
    "            if is_node_addable_to_IS(G, V_set, rem_node):\n",
    "                find_all_MIS_rec(G, rem_node, V_set.copy(), remaining_nodes.copy(), set_of_found_MIS)"
   ]
  },
  {
   "cell_type": "code",
   "execution_count": null,
   "id": "introductory-joshua",
   "metadata": {},
   "outputs": [],
   "source": [
    "def find_all_MIS(G, mode):\n",
    "    set_of_found_MIS = []\n",
    "    V_set = []\n",
    "    remaining_nodes = list(G.nodes).copy()\n",
    "    for node in remaining_nodes:\n",
    "        if G.degree[node] == 0:\n",
    "            V_set.append(node)\n",
    "    for node in V_set:\n",
    "        remaining_nodes.remove(node)\n",
    "    for node in remaining_nodes:\n",
    "        if is_node_addable_to_IS(G, V_set, node):\n",
    "            find_all_MIS_rec(G, node, V_set.copy(), remaining_nodes.copy(), set_of_found_MIS)\n",
    "    if mode == 'all':\n",
    "        return set_of_found_MIS\n",
    "    else:\n",
    "        return max(set_of_found_MIS, key = len)"
   ]
  },
  {
   "cell_type": "code",
   "execution_count": null,
   "id": "offensive-lobby",
   "metadata": {},
   "outputs": [],
   "source": [
    "%%time\n",
    "find_all_MIS(Gp, 'all')"
   ]
  },
  {
   "cell_type": "code",
   "execution_count": null,
   "id": "equivalent-illness",
   "metadata": {},
   "outputs": [],
   "source": [
    "find_all_MIS(Gp, 'maximum')"
   ]
  }
 ],
 "metadata": {
  "kernelspec": {
   "display_name": "Python 3",
   "language": "python",
   "name": "python3"
  },
  "language_info": {
   "codemirror_mode": {
    "name": "ipython",
    "version": 3
   },
   "file_extension": ".py",
   "mimetype": "text/x-python",
   "name": "python",
   "nbconvert_exporter": "python",
   "pygments_lexer": "ipython3",
   "version": "3.8.5"
  }
 },
 "nbformat": 4,
 "nbformat_minor": 5
}
