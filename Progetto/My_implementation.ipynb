{
 "cells": [
  {
   "cell_type": "code",
   "execution_count": 6,
   "id": "better-outside",
   "metadata": {
    "scrolled": true
   },
   "outputs": [
    {
     "name": "stdout",
     "output_type": "stream",
     "text": [
      "0.000%\n",
      "0.000%\n",
      "0.000%\n",
      "6.667%\n",
      "6.667%\n",
      "6.667%\n",
      "6.667%\n",
      "6.667%\n",
      "20.000%\n",
      "20.000%\n",
      "20.000%\n",
      "20.000%\n",
      "26.667%\n",
      "26.667%\n",
      "26.667%\n",
      "26.667%\n",
      "26.667%\n",
      "33.333%\n",
      "33.333%\n",
      "40.000%\n",
      "40.000%\n",
      "40.000%\n",
      "40.000%\n",
      "40.000%\n",
      "40.000%\n",
      "46.667%\n",
      "46.667%\n",
      "46.667%\n",
      "46.667%\n",
      "53.333%\n",
      "53.333%\n",
      "60.000%\n",
      "60.000%\n",
      "60.000%\n",
      "73.333%\n",
      "73.333%\n",
      "73.333%\n",
      "86.667%\n",
      "86.667%\n",
      "86.667%\n"
     ]
    },
    {
     "data": {
      "image/png": "[encoded data removed]",
      "text/plain": [
       "<Figure size 432x288 with 1 Axes>"
      ]
     },
     "metadata": {},
     "output_type": "display_data"
    }
   ],
   "source": [
    "# libraries import\n",
    "import os\n",
    "import re\n",
    "import json\n",
    "import random\n",
    "import itertools\n",
    "import numpy as np\n",
    "import networkx as nx\n",
    "from scipy.stats import bernoulli\n",
    "\n",
    "# fetching all the files\n",
    "base_path = '/home/heaven/Documents/graph_mining/Progetto/sequences/'\n",
    "files = os.listdir(base_path)\n",
    "\n",
    "# creating the Graph using networkx\n",
    "G = nx.Graph()\n",
    "node_index = 0\n",
    "i = 1\n",
    "number_of_nodes = 15\n",
    "\n",
    "# main loop for graph construction\n",
    "for file in files:\n",
    "    if node_index > number_of_nodes and not number_of_nodes == -1:\n",
    "        break\n",
    "    if '.json' in file:\n",
    "        # opening current file\n",
    "        with open(base_path + file) as in_file:\n",
    "            data = json.load(in_file)\n",
    "        \n",
    "        if number_of_nodes == -1:\n",
    "            print(str(\"%.3f\" % (i*100/len(files))) + \"%\")\n",
    "        else:\n",
    "            print(str(\"%.3f\" % (node_index*100/number_of_nodes)) + \"%\")\n",
    "        i += 1\n",
    "                  \n",
    "        # isolating the comment section\n",
    "        if 'comment' in data['results'][0]:\n",
    "            comments_section = data['results'][0]['comment']\n",
    "\n",
    "            # isolating the authors\n",
    "            authors = []\n",
    "            for comment in comments_section:\n",
    "                pattern = '_[A-Z][\\w+\\s?\\.?]+_'\n",
    "                results = re.findall(pattern, comment)\n",
    "                if results:\n",
    "                    author = results[0].split('_')[1]\n",
    "                    authors.append(author)\n",
    "                        \n",
    "            # adding the nodes\n",
    "            for author in authors:\n",
    "                if author not in nx.get_node_attributes(G, 'name').values():\n",
    "                    G.add_node(node_index, name = author)\n",
    "                    node_index += 1\n",
    "\n",
    "            # adding the edges\n",
    "            for pair in itertools.combinations(authors, 2):\n",
    "                # fetching node 1\n",
    "                node_1_key = list(nx.get_node_attributes(G, 'name').values()).index(pair[0])\n",
    "                # fetching node 2\n",
    "                node_2_key = list(nx.get_node_attributes(G, 'name').values()).index(pair[1])\n",
    "                # adding the edge if it isn't already in the graph\n",
    "                if (node_1_key, node_2_key) not in list(G.edges):\n",
    "                    G.add_edge(node_1_key, node_2_key)\n",
    "\n",
    "nx.draw(G, with_labels = True)"
   ]
  },
  {
   "cell_type": "markdown",
   "id": "joint-resolution",
   "metadata": {},
   "source": [
    "Greedy algorithm O(m) for finding a MIS"
   ]
  },
  {
   "cell_type": "code",
   "execution_count": 2,
   "id": "swedish-roads",
   "metadata": {},
   "outputs": [],
   "source": [
    "def greedy_MIS(G):\n",
    "    V_set = list(G.nodes).copy()\n",
    "    maximal_independent_set = []\n",
    "    while len(V_set) > 0:\n",
    "        node = random.choice(V_set)\n",
    "        maximal_independent_set.append(node)\n",
    "        V_set.remove(node)\n",
    "        for adj_node in list(G.adj[node]):\n",
    "            if adj_node in V_set:\n",
    "                V_set.remove(adj_node)\n",
    "    return maximal_independent_set"
   ]
  },
  {
   "cell_type": "code",
   "execution_count": 34,
   "id": "enormous-conjunction",
   "metadata": {
    "scrolled": true
   },
   "outputs": [
    {
     "name": "stdout",
     "output_type": "stream",
     "text": [
      "CPU times: user 190 µs, sys: 0 ns, total: 190 µs\n",
      "Wall time: 196 µs\n"
     ]
    },
    {
     "data": {
      "text/plain": [
       "[5, 39, 11, 16, 29, 23, 0, 10, 6, 34, 1, 8, 15, 33, 3]"
      ]
     },
     "execution_count": 34,
     "metadata": {},
     "output_type": "execute_result"
    }
   ],
   "source": [
    "%%time\n",
    "greedy_MIS(G)"
   ]
  },
  {
   "cell_type": "markdown",
   "id": "separate-mechanics",
   "metadata": {},
   "source": [
    "Greedy algorithm O(m) for finding a MIS with the specified nodes in it"
   ]
  },
  {
   "cell_type": "code",
   "execution_count": 13,
   "id": "effective-divorce",
   "metadata": {},
   "outputs": [],
   "source": [
    "# function that returns a MIS with the specified nodes in it\n",
    "def greedy_MIS_with_nodes_specified(G, chosen_nodes):\n",
    "    V_set = list(G.nodes).copy()\n",
    "    maximal_independent_set = []\n",
    "    if check_if_set_is_IS(G, chosen_nodes):\n",
    "        # inserting the chosen nodes and removing their adj list\n",
    "        for node in chosen_nodes:\n",
    "            maximal_independent_set.append(node)\n",
    "            V_set.remove(node)\n",
    "            for adj_node in list(G.adj[node]):\n",
    "                if adj_node in V_set:\n",
    "                    V_set.remove(adj_node)\n",
    "        # main loop\n",
    "        while len(V_set) > 0:\n",
    "            node = random.choice(V_set)\n",
    "            maximal_independent_set.append(node)\n",
    "            V_set.remove(node)\n",
    "            for adj_node in list(G.adj[node]):\n",
    "                if adj_node in V_set:\n",
    "                    V_set.remove(adj_node)\n",
    "    return maximal_independent_set"
   ]
  },
  {
   "cell_type": "markdown",
   "id": "informal-rolling",
   "metadata": {},
   "source": [
    "Luby's algorithm O(logn) for finding a MIS"
   ]
  },
  {
   "cell_type": "code",
   "execution_count": 11,
   "id": "announced-relevance",
   "metadata": {},
   "outputs": [],
   "source": [
    "def luby_MIS(G):\n",
    "    V_set = set(G.nodes).copy()\n",
    "    E_set = list(G.edges).copy()\n",
    "    maximal_independent_set = []\n",
    "    while len(V_set) > 0:\n",
    "        probability_dist = [1/(2*G.degree[node]) if G.degree[node] > 0 else 1 for node in V_set]\n",
    "        marks = bernoulli.rvs(probability_dist, size = len(V_set))\n",
    "        marked_nodes = dict(zip(V_set, marks))\n",
    "        for edge in E_set:\n",
    "            if edge[0] in marked_nodes and edge[1] in marked_nodes:\n",
    "                if marked_nodes[edge[0]] == 1 and marked_nodes[edge[1]] == 1:\n",
    "                    if G.degree[edge[0]] < G.degree[edge[1]]:\n",
    "                        marked_nodes[edge[0]] = 0\n",
    "                    elif G.degree[edge[0]] > G.degree[edge[1]]:\n",
    "                        marked_nodes[edge[1]] = 0\n",
    "                    else:\n",
    "                        if edge[0] < edge[1]:\n",
    "                            marked_nodes[edge[0]] = 0\n",
    "                        else:\n",
    "                            marked_nodes[edge[1]] = 0\n",
    "        for node in V_set:\n",
    "            if marked_nodes[node] == 1:\n",
    "                maximal_independent_set.append(node)\n",
    "        for node in maximal_independent_set:\n",
    "            if node in V_set:\n",
    "                V_set.remove(node)\n",
    "            V_set = V_set.difference(set(G.adj[node]))\n",
    "        for edge in E_set:\n",
    "            if not(edge[0] in V_set and edge[1] in V_set):\n",
    "                E_set.remove(edge)\n",
    "    return maximal_independent_set"
   ]
  },
  {
   "cell_type": "code",
   "execution_count": 184,
   "id": "contrary-presence",
   "metadata": {},
   "outputs": [
    {
     "name": "stdout",
     "output_type": "stream",
     "text": [
      "CPU times: user 1.64 ms, sys: 29 µs, total: 1.67 ms\n",
      "Wall time: 1.47 ms\n"
     ]
    },
    {
     "data": {
      "text/plain": [
       "[4, 7, 8, 1]"
      ]
     },
     "execution_count": 184,
     "metadata": {},
     "output_type": "execute_result"
    }
   ],
   "source": [
    "%%time\n",
    "luby_MIS(Gp)"
   ]
  },
  {
   "cell_type": "markdown",
   "id": "adopted-token",
   "metadata": {},
   "source": [
    "Naive algorithm designed to find all MISs"
   ]
  },
  {
   "cell_type": "code",
   "execution_count": 7,
   "id": "massive-session",
   "metadata": {},
   "outputs": [
    {
     "data": {
      "image/png": "[encoded data removed]",
      "text/plain": [
       "<Figure size 432x288 with 1 Axes>"
      ]
     },
     "metadata": {},
     "output_type": "display_data"
    }
   ],
   "source": [
    "Gp = nx.petersen_graph()\n",
    "nx.draw(Gp, with_labels = True)"
   ]
  },
  {
   "cell_type": "code",
   "execution_count": 4,
   "id": "assumed-vintage",
   "metadata": {},
   "outputs": [],
   "source": [
    "# function that returns true if the independent set is maximal (non-extendible)\n",
    "def check_if_set_is_MIS(G, IS):\n",
    "    nodes_without_IS = [node for node in list(G.nodes) if node not in IS]\n",
    "    if any(is_node_addable_to_IS(G, IS, node) for node in nodes_without_IS):\n",
    "        return False\n",
    "    else:\n",
    "        return True"
   ]
  },
  {
   "cell_type": "code",
   "execution_count": 3,
   "id": "minimal-steps",
   "metadata": {},
   "outputs": [],
   "source": [
    "# function that returns true if the node we're trying to add doesn't turn the set into\n",
    "# a dependent set\n",
    "def is_node_addable_to_IS(G, IS, new_node):\n",
    "    if any(new_node in G.adj[node] for node in IS):\n",
    "        return False\n",
    "    else:\n",
    "        return True"
   ]
  },
  {
   "cell_type": "code",
   "execution_count": 2,
   "id": "afraid-rally",
   "metadata": {},
   "outputs": [],
   "source": [
    "def find_all_MIS_rec(G, node, V_set, remaining_nodes, set_of_found_MIS):\n",
    "    if set(remaining_nodes) == set():\n",
    "        return\n",
    "    V_set.append(node)\n",
    "    remaining_nodes.remove(node)\n",
    "    for adj_node in G.adj[node]:\n",
    "        if adj_node in remaining_nodes:\n",
    "            remaining_nodes.remove(adj_node)\n",
    "    if check_if_set_is_MIS(G, V_set):\n",
    "        new_MIS = V_set.copy()\n",
    "        if set(new_MIS) not in [set(MIS) for MIS in set_of_found_MIS]:\n",
    "            set_of_found_MIS.append(new_MIS)\n",
    "        V_set.remove(node)\n",
    "    if set(V_set + remaining_nodes) not in [set(MIS) for MIS in set_of_found_MIS]:\n",
    "        for rem_node in remaining_nodes:\n",
    "            #if is_node_addable_to_IS(G, V_set, rem_node):\n",
    "            find_all_MIS_rec(G, rem_node, V_set.copy(), remaining_nodes.copy(), set_of_found_MIS)"
   ]
  },
  {
   "cell_type": "code",
   "execution_count": 1,
   "id": "informational-canvas",
   "metadata": {},
   "outputs": [],
   "source": [
    "def find_all_MIS(G, mode):\n",
    "    set_of_found_MIS = []\n",
    "    V_set = []\n",
    "    remaining_nodes = list(G.nodes).copy()\n",
    "    for node in remaining_nodes:\n",
    "        if G.degree[node] == 0:\n",
    "            V_set.append(node)\n",
    "    for node in V_set:\n",
    "        remaining_nodes.remove(node)\n",
    "    for node in remaining_nodes:\n",
    "        #if is_node_addable_to_IS(G, V_set, node):\n",
    "            find_all_MIS_rec(G, node, V_set.copy(), remaining_nodes.copy(), set_of_found_MIS)\n",
    "    if mode == 'all':\n",
    "        return set_of_found_MIS\n",
    "    else:\n",
    "        return max(set_of_found_MIS, key = len)"
   ]
  },
  {
   "cell_type": "code",
   "execution_count": 9,
   "id": "ceramic-element",
   "metadata": {},
   "outputs": [
    {
     "name": "stdout",
     "output_type": "stream",
     "text": [
      "CPU times: user 11 ms, sys: 0 ns, total: 11 ms\n",
      "Wall time: 10.9 ms\n"
     ]
    },
    {
     "data": {
      "text/plain": [
       "[[0, 2, 6],\n",
       " [0, 2, 8, 9],\n",
       " [0, 3, 6, 7],\n",
       " [0, 3, 9],\n",
       " [0, 7, 8],\n",
       " [1, 3, 5, 9],\n",
       " [1, 3, 7],\n",
       " [1, 4, 5],\n",
       " [1, 4, 7, 8],\n",
       " [1, 8, 9],\n",
       " [2, 4, 5, 6],\n",
       " [2, 4, 8],\n",
       " [2, 5, 9],\n",
       " [3, 5, 6],\n",
       " [4, 6, 7]]"
      ]
     },
     "execution_count": 9,
     "metadata": {},
     "output_type": "execute_result"
    }
   ],
   "source": [
    "%%time\n",
    "find_all_MIS(Gp, 'all')"
   ]
  },
  {
   "cell_type": "code",
   "execution_count": 10,
   "id": "grand-engineer",
   "metadata": {},
   "outputs": [
    {
     "name": "stdout",
     "output_type": "stream",
     "text": [
      "CPU times: user 10.8 ms, sys: 0 ns, total: 10.8 ms\n",
      "Wall time: 10.5 ms\n"
     ]
    },
    {
     "data": {
      "text/plain": [
       "[0, 2, 8, 9]"
      ]
     },
     "execution_count": 10,
     "metadata": {},
     "output_type": "execute_result"
    }
   ],
   "source": [
    "%%time\n",
    "find_all_MIS(Gp, 'maximum')"
   ]
  }
 ],
 "metadata": {
  "kernelspec": {
   "display_name": "Python 3",
   "language": "python",
   "name": "python3"
  },
  "language_info": {
   "codemirror_mode": {
    "name": "ipython",
    "version": 3
   },
   "file_extension": ".py",
   "mimetype": "text/x-python",
   "name": "python",
   "nbconvert_exporter": "python",
   "pygments_lexer": "ipython3",
   "version": "3.8.5"
  }
 },
 "nbformat": 4,
 "nbformat_minor": 5
}
