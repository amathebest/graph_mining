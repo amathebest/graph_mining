{
 "cells": [
  {
   "cell_type": "markdown",
   "id": "opposed-september",
   "metadata": {},
   "source": [
    "Libraries import"
   ]
  },
  {
   "cell_type": "code",
   "execution_count": 114,
   "id": "valuable-contract",
   "metadata": {},
   "outputs": [],
   "source": [
    "import os\n",
    "import re\n",
    "import json\n",
    "import networkx as nx\n",
    "import itertools"
   ]
  },
  {
   "cell_type": "markdown",
   "id": "dangerous-syndrome",
   "metadata": {},
   "source": [
    "Testing the read of a json file"
   ]
  },
  {
   "cell_type": "code",
   "execution_count": 188,
   "id": "greek-washer",
   "metadata": {},
   "outputs": [
    {
     "data": {
      "text/plain": [
       "{'greeting': 'Greetings from The On-Line Encyclopedia of Integer Sequences! http://oeis.org/',\n",
       " 'query': 'id:A324116',\n",
       " 'count': 1,\n",
       " 'start': 0,\n",
       " 'results': [{'number': 324116,\n",
       "   'data': '1,1,1,3,1,4,1,2,5,5,1,3,1,6,7,8,1,2,1,4,9,7,1,13,7,8,5,5,1,3,1,7,11,9,10,12,1,10,13,18,1,4,1,6,8,11,1,12,9,2,15,7,1,11,13,23,17,12,1,19,1,13,11,13,16,5,1,8,19,3,1,13,1,14,7,9,13,6,1,17,10,15,1,26,19,16,21,28,1,18,17,10,23,17,22,23,1,2',\n",
       "   'name': 'a(n) = A002487(1+A323247(n)) = A324288(A156552(n)).',\n",
       "   'comment': ['Like A323902, this also has quite a moderate growth rate, even though a certain subset of terms of A156552 soon grow quite big.'],\n",
       "   'link': ['Antti Karttunen, <a href=\"/A324116/b324116.txt\">Table of n, a(n) for n = 1..16384</a>',\n",
       "    'Antti Karttunen, <a href=\"/A324116/a324116.txt\">Data supplement: n, a(n) computed for n = 1..65537</a>',\n",
       "    '<a href=\"/index/Bi#binary\">Index entries for sequences related to binary expansion of n</a>',\n",
       "    '<a href=\"/index/Pri#prime_indices\">Index entries for sequences computed from indices in prime factorization</a>',\n",
       "    '<a href=\"/index/St#Stern\">Index entries for sequences related to Stern\\'s sequences</a>'],\n",
       "   'formula': ['a(n) = A002487(1+A323247(n)) = A324288(A156552(n)).',\n",
       "    'a(p) = 1 for all primes p.'],\n",
       "   'program': ['(PARI)',\n",
       "    'A002487(n) = { my(s=sign(n), a=1, b=0); n = abs(n); while(n>0, if(bitand(n, 1), b+=a, a+=b); n>>=1); (s*b); }; \\\\\\\\ So we use this one, modified from the one given in A002487',\n",
       "    'A005187(n) = { my(s=n); while(n>>=1, s+=n); s; };',\n",
       "    'A064989(n) = {my(f); f = factor(n); if((n>1 && f[1,1]==2), f[1,2] = 0); for (i=1, #f~, f[i,1] = precprime(f[i,1]-1)); factorback(f)};',\n",
       "    'A156552(n) = if(1==n, 0, if(!(n%2), 1+(2*A156552(n/2)), 2*A156552(A064989(n))));',\n",
       "    'A324288(n) = A002487(1+A005187(n));',\n",
       "    'A324116(n) = A324288(A156552(n));'],\n",
       "   'xref': ['Cf. A002487, A005187, A156552, A323247, A323902, A324115, A324288.'],\n",
       "   'keyword': 'nonn',\n",
       "   'offset': '1,4',\n",
       "   'author': '_Antti Karttunen_, Feb 20 2019',\n",
       "   'references': 6,\n",
       "   'revision': 9,\n",
       "   'time': '2019-02-20T21:43:08-05:00',\n",
       "   'created': '2019-02-20T21:43:08-05:00'}]}"
      ]
     },
     "execution_count": 188,
     "metadata": {},
     "output_type": "execute_result"
    }
   ],
   "source": [
    "with open('sequences/A324116.json') as in_file:\n",
    "  data = json.load(in_file)\n",
    "data"
   ]
  },
  {
   "cell_type": "markdown",
   "id": "induced-orleans",
   "metadata": {},
   "source": [
    "Extracting the comment section within the json file"
   ]
  },
  {
   "cell_type": "code",
   "execution_count": 184,
   "id": "accomplished-employment",
   "metadata": {},
   "outputs": [],
   "source": [
    "comment_example = data['results'][0]['comment']"
   ]
  },
  {
   "cell_type": "code",
   "execution_count": 185,
   "id": "accessible-rental",
   "metadata": {},
   "outputs": [
    {
     "name": "stdout",
     "output_type": "stream",
     "text": [
      "Like A323902, this also has quite a moderate growth rate, even though a certain subset of terms of A156552 soon grow quite big.\n"
     ]
    }
   ],
   "source": [
    "for comment in comment_example:\n",
    "    print(comment)"
   ]
  },
  {
   "cell_type": "markdown",
   "id": "leading-retrieval",
   "metadata": {},
   "source": [
    "Isolating the author of the comment"
   ]
  },
  {
   "cell_type": "code",
   "execution_count": 186,
   "id": "subjective-price",
   "metadata": {},
   "outputs": [],
   "source": [
    "authors = []"
   ]
  },
  {
   "cell_type": "code",
   "execution_count": 187,
   "id": "convertible-consent",
   "metadata": {},
   "outputs": [
    {
     "ename": "IndexError",
     "evalue": "list index out of range",
     "output_type": "error",
     "traceback": [
      "\u001b[0;31m---------------------------------------------------------------------------\u001b[0m",
      "\u001b[0;31mIndexError\u001b[0m                                Traceback (most recent call last)",
      "\u001b[0;32m<ipython-input-187-b0ca0561d7d8>\u001b[0m in \u001b[0;36m<module>\u001b[0;34m\u001b[0m\n\u001b[1;32m      2\u001b[0m     \u001b[0mpattern\u001b[0m \u001b[0;34m=\u001b[0m \u001b[0;34m'(_([a-zA-Z]+\\.?\\s?)*_)'\u001b[0m\u001b[0;34m\u001b[0m\u001b[0;34m\u001b[0m\u001b[0m\n\u001b[1;32m      3\u001b[0m     \u001b[0mresults\u001b[0m \u001b[0;34m=\u001b[0m \u001b[0mre\u001b[0m\u001b[0;34m.\u001b[0m\u001b[0mfindall\u001b[0m\u001b[0;34m(\u001b[0m\u001b[0mpattern\u001b[0m\u001b[0;34m,\u001b[0m \u001b[0mcomment\u001b[0m\u001b[0;34m)\u001b[0m\u001b[0;34m\u001b[0m\u001b[0;34m\u001b[0m\u001b[0m\n\u001b[0;32m----> 4\u001b[0;31m     \u001b[0mauthor\u001b[0m \u001b[0;34m=\u001b[0m \u001b[0mresults\u001b[0m\u001b[0;34m[\u001b[0m\u001b[0;36m0\u001b[0m\u001b[0;34m]\u001b[0m\u001b[0;34m[\u001b[0m\u001b[0;36m0\u001b[0m\u001b[0;34m]\u001b[0m\u001b[0;34m.\u001b[0m\u001b[0msplit\u001b[0m\u001b[0;34m(\u001b[0m\u001b[0;34m'_'\u001b[0m\u001b[0;34m)\u001b[0m\u001b[0;34m[\u001b[0m\u001b[0;36m1\u001b[0m\u001b[0;34m]\u001b[0m\u001b[0;34m\u001b[0m\u001b[0;34m\u001b[0m\u001b[0m\n\u001b[0m\u001b[1;32m      5\u001b[0m     \u001b[0mauthors\u001b[0m\u001b[0;34m.\u001b[0m\u001b[0mappend\u001b[0m\u001b[0;34m(\u001b[0m\u001b[0mauthor\u001b[0m\u001b[0;34m)\u001b[0m\u001b[0;34m\u001b[0m\u001b[0;34m\u001b[0m\u001b[0m\n\u001b[1;32m      6\u001b[0m     \u001b[0mprint\u001b[0m\u001b[0;34m(\u001b[0m\u001b[0mauthor\u001b[0m\u001b[0;34m)\u001b[0m\u001b[0;34m\u001b[0m\u001b[0;34m\u001b[0m\u001b[0m\n",
      "\u001b[0;31mIndexError\u001b[0m: list index out of range"
     ]
    }
   ],
   "source": [
    "for comment in comment_example:\n",
    "    pattern = '(_([a-zA-Z]+\\.?\\s?)*_)'\n",
    "    results = re.findall(pattern, comment)\n",
    "    author = results[0][0].split('_')[1]\n",
    "    authors.append(author)\n",
    "    print(author)"
   ]
  },
  {
   "cell_type": "code",
   "execution_count": null,
   "id": "chronic-candy",
   "metadata": {},
   "outputs": [],
   "source": [
    "authors"
   ]
  },
  {
   "cell_type": "markdown",
   "id": "nervous-victory",
   "metadata": {},
   "source": [
    "Creating a graph using NetworkX"
   ]
  },
  {
   "cell_type": "code",
   "execution_count": 157,
   "id": "rotary-directory",
   "metadata": {},
   "outputs": [],
   "source": [
    "G = nx.Graph()"
   ]
  },
  {
   "cell_type": "code",
   "execution_count": 66,
   "id": "continued-brave",
   "metadata": {},
   "outputs": [
    {
     "data": {
      "text/plain": [
       "{}"
      ]
     },
     "execution_count": 66,
     "metadata": {},
     "output_type": "execute_result"
    }
   ],
   "source": [
    "node_index = 0\n",
    "nx.get_node_attributes(G,'name')"
   ]
  },
  {
   "cell_type": "code",
   "execution_count": 159,
   "id": "exempt-circuit",
   "metadata": {},
   "outputs": [
    {
     "data": {
      "text/plain": [
       "[53]"
      ]
     },
     "execution_count": 159,
     "metadata": {},
     "output_type": "execute_result"
    }
   ],
   "source": [
    "for author in authors:\n",
    "    if author not in nx.get_node_attributes(G,'name').values():\n",
    "        G.add_node(node_index, name = author)\n",
    "        node_index += 1\n",
    "list(G.nodes)"
   ]
  },
  {
   "cell_type": "code",
   "execution_count": 158,
   "id": "mediterranean-syracuse",
   "metadata": {},
   "outputs": [
    {
     "data": {
      "text/plain": [
       "{}"
      ]
     },
     "execution_count": 158,
     "metadata": {},
     "output_type": "execute_result"
    }
   ],
   "source": [
    "nx.get_node_attributes(G, 'name')"
   ]
  },
  {
   "cell_type": "code",
   "execution_count": 73,
   "id": "friendly-bennett",
   "metadata": {},
   "outputs": [],
   "source": [
    "for pair in itertools.combinations(authors, 2):\n",
    "    # fetching node 1\n",
    "    node_1_key = list(nx.get_node_attributes(G, 'name').values()).index(pair[0])\n",
    "    # fetching node 2\n",
    "    node_2_key = list(nx.get_node_attributes(G, 'name').values()).index(pair[1])\n",
    "    # adding the edge if it isn't already in the graph\n",
    "    if (node_1_key, node_2_key) not in list(G.edges):\n",
    "        G.add_edge(node_1_key, node_2_key)"
   ]
  },
  {
   "cell_type": "code",
   "execution_count": 75,
   "id": "continuing-annotation",
   "metadata": {
    "scrolled": false
   },
   "outputs": [
    {
     "data": {
      "image/png": "[encoded data removed]",
      "text/plain": [
       "<Figure size 432x288 with 1 Axes>"
      ]
     },
     "metadata": {},
     "output_type": "display_data"
    }
   ],
   "source": [
    "nx.draw(G, with_labels = True)"
   ]
  }
 ],
 "metadata": {
  "kernelspec": {
   "display_name": "Python 3",
   "language": "python",
   "name": "python3"
  },
  "language_info": {
   "codemirror_mode": {
    "name": "ipython",
    "version": 3
   },
   "file_extension": ".py",
   "mimetype": "text/x-python",
   "name": "python",
   "nbconvert_exporter": "python",
   "pygments_lexer": "ipython3",
   "version": "3.8.5"
  }
 },
 "nbformat": 4,
 "nbformat_minor": 5
}
